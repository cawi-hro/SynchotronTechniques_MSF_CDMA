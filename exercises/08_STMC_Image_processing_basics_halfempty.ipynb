{
 "cells": [
  {
   "cell_type": "markdown",
   "id": "ca6dd74b",
   "metadata": {},
   "source": [
    "## Image processing basics"
   ]
  },
  {
   "cell_type": "markdown",
   "id": "5167d6b5",
   "metadata": {},
   "source": [
    "By going through this jupyter notebook and filling in the blanks you will learn how to assess **basic properties** of your image, perform **simple image operations** and assess the **image quality** quantitatively.\n",
    "\n",
    "The example code and solutions were created by **André Lopes Marinho** and **Berit Zeller-Plumhoff**."
   ]
  },
  {
   "cell_type": "markdown",
   "id": "f2054f08",
   "metadata": {},
   "source": [
    "You will require the following libraries. If loading any of them fails, please use ``pip install`` to install any missing libraries."
   ]
  },
  {
   "cell_type": "code",
   "execution_count": 1,
   "id": "581e3de1",
   "metadata": {},
   "outputs": [],
   "source": [
    "# Importing libraries\n",
    "import numpy as np\n",
    "import math\n",
    "import matplotlib.pyplot as plt\n",
    "import imageio as iio\n",
    "import skimage"
   ]
  },
  {
   "cell_type": "markdown",
   "id": "aa57e703",
   "metadata": {},
   "source": [
    "---\n",
    "### Loading images and basic properties"
   ]
  },
  {
   "cell_type": "markdown",
   "id": "440283b0",
   "metadata": {},
   "source": [
    "The **first task** will be to write a function that will automatically **load and display an image** based on the ``image path`` that will be provided as an argument to the function. Please fill in the missing lines as indicated in the comments to load the image.\n",
    "\n",
    "Once the image is loaded, we can assess its shape in a **second setp** using the ``.shape`` command and the type of the image using the ``.dtype`` command. Find out what values the commands returns based on different example images that are provided in the ``data`` folder.\n",
    "\n",
    "After that, write a short function that prints the **image type**, **height**, **width** and **number of channels** for any given input image.\n",
    "\n",
    "**Hint:**\n",
    "- The images used for our lesson are named in the format: ``08_*.png``."
   ]
  },
  {
   "cell_type": "markdown",
   "id": "6c1b92de",
   "metadata": {},
   "source": [
    "---\n",
    "#### Solution\n",
    "_- solve the exercise beneath using markdown and/or code blocks -_"
   ]
  },
  {
   "cell_type": "code",
   "execution_count": 2,
   "id": "33ca3254",
   "metadata": {},
   "outputs": [],
   "source": [
    "# Ensure images display in the Jupyter notebook as static image, interactive widget or in a seperate window. [inline, widget, qt]\n",
    "%matplotlib inline"
   ]
  },
  {
   "cell_type": "code",
   "execution_count": 3,
   "id": "bc860e11-3daf-4301-92b1-3978b70c7b40",
   "metadata": {},
   "outputs": [],
   "source": [
    "def load_and_show_image(xxx):\n",
    "    \"\"\"\n",
    "    Load and display an image from the given path.\n",
    "\n",
    "    Args:\n",
    "        path (str): The path to the image file, including the file extension.\n",
    "                    Example: \"images/example.tif\"\n",
    "\n",
    "    Returns:\n",
    "        numpy.ndarray: The image data as a NumPy array.\n",
    "    \"\"\"\n",
    "    # Use imageio to read the image\n",
    "    image = iio.imread(xxx)\n",
    "\n",
    "    # Display the image in grayscale using matplotlib\n",
    "    plt.imshow(xxx, cmap=\"gray\")\n",
    "    plt.show()  # Ensure the image is displayed\n",
    "\n",
    "    # Print a success message\n",
    "    print(f\"The image from {xxx} was loaded successfully.\")\n",
    "\n",
    "    return xxx\n"
   ]
  },
  {
   "cell_type": "code",
   "execution_count": null,
   "id": "21ede75d",
   "metadata": {},
   "outputs": [],
   "source": [
    "img_01 = load_and_show_image(path=\"xxx\")"
   ]
  },
  {
   "cell_type": "code",
   "execution_count": 5,
   "id": "41735934",
   "metadata": {},
   "outputs": [],
   "source": [
    "def print_image_props(xxx):\n",
    "    \"\"\"Displays image type, height, width and number of channels given an image.\n",
    "\n",
    "    Args:\n",
    "        image(variablename): variable name of an image\n",
    "    \"\"\"\n",
    "    # The method 'iio.imread' returns an numpy.ndarray, so we can perform array operations on the variable\n",
    "    # 'image', like showing the number of channels/depth of the image.\n",
    "    image_shape = image.xxx\n",
    "    image_type = image.xxx\n",
    "\n",
    "    # With this information, we can also print some image properties\n",
    "    if len(image_shape) > 2:\n",
    "        print(\"Type =\", image_type)\n",
    "        print(\"Height =\", image_shape[0])\n",
    "        print(\"Width =\", image_shape[1])\n",
    "        print(\"# of channels =\", image_shape[2])\n",
    "    else:\n",
    "        print(\"Type =\", image_type)\n",
    "        print(\"Height =\", image_shape[0])\n",
    "        print(\"Width =\", image_shape[1])\n",
    "        print(\"# of channels =\", 1)"
   ]
  },
  {
   "cell_type": "code",
   "execution_count": null,
   "id": "d862a106",
   "metadata": {},
   "outputs": [],
   "source": [
    "print_image_props(xxx)"
   ]
  },
  {
   "cell_type": "markdown",
   "id": "3b094149",
   "metadata": {},
   "source": [
    "---\n",
    "### Histogram"
   ]
  },
  {
   "cell_type": "markdown",
   "id": "9e14297c",
   "metadata": {},
   "source": [
    "**In addition** to assessing the general image properties, we are usually interested in knowing the **greyscale distribution**, i.e. the histogram, which gives us a first impression of image quality in terms of contrast and segmentability.\n",
    "\n",
    "In this following code snipped complete the function to evaluate the histogram of an image that is input into the function as a ``numpy.ndarray``."
   ]
  },
  {
   "cell_type": "markdown",
   "id": "ef1b1c88",
   "metadata": {},
   "source": [
    "---\n",
    "#### Solution\n",
    "_- solve the exercise beneath using markdown and/or code blocks -_"
   ]
  },
  {
   "cell_type": "code",
   "execution_count": 7,
   "id": "43ee674a-aa96-439e-89b8-5871281a8e1d",
   "metadata": {},
   "outputs": [],
   "source": [
    "def show_histogram(xxx):\n",
    "    \"\"\"Showns an histogram given an image. This method considers the image will be\n",
    "        either grayscale or RGB\n",
    "\n",
    "    Args:\n",
    "        img(numpy.ndarray): Image represented by array\n",
    "\n",
    "    Returns:\n",
    "        None\n",
    "    \"\"\"\n",
    "\n",
    "    # First, we need to know if the image is grayscale or RGB\n",
    "    # use the shape function to do so\n",
    "    image_shape = xxx.xxx\n",
    "\n",
    "    # Next, we can define some properties of our histogram figure\n",
    "    # create an empty figure with title, xlabel, ylabel and set the limits of the x-axis\n",
    "    plt.figure()\n",
    "    plt.title(\"Histogram\")\n",
    "    plt.xlabel(\"Value\")\n",
    "    plt.ylabel(\"Pixel count\")\n",
    "    plt.xlim([0, xxx])\n",
    "\n",
    "    # Finally, create a histrogram using the numpy histogram function and plot it\n",
    "    # use a bin number of 256 in all cases\n",
    "    if len(xxx) > 2:\n",
    "        colors = (\"red\", \"green\", \"blue\")\n",
    "        for channel_id, color in enumerate(colors):\n",
    "            histogram, bin_edges = np.histogram(\n",
    "                image[:, :, channel_id],\n",
    "                bins=256,\n",
    "                range=(0, np.max(image[:, :, channel_id])),\n",
    "            )\n",
    "            plt.plot(bin_edges[0:-1], histogram, color=color)\n",
    "    else:\n",
    "        histogram, bin_edges = np.histogram(image, bins=256, range=(0, np.max(image)))\n",
    "        plt.plot(bin_edges[0:-1], histogram)\n",
    "\n",
    "    return None"
   ]
  },
  {
   "cell_type": "markdown",
   "id": "23f89209",
   "metadata": {},
   "source": [
    "Now load a couple of test images and display their histogram using the functions you have adapted."
   ]
  },
  {
   "cell_type": "code",
   "execution_count": null,
   "id": "c7d2c32c-c93a-49f5-81a7-4e5b0d787d3e",
   "metadata": {},
   "outputs": [],
   "source": [
    "# Show a histogram\n",
    "show_histogram(image=xxx)"
   ]
  },
  {
   "cell_type": "markdown",
   "id": "be53e66a",
   "metadata": {},
   "source": [
    "---\n",
    "### Simple image operations #1"
   ]
  },
  {
   "cell_type": "markdown",
   "id": "4717f2f4",
   "metadata": {},
   "source": [
    "Once we are able to load an image and assess its properties as well as its histogram, we can perform a number of matrix operations on it.\n",
    "As shown as an example in the lecture, perform the **following operation** for the image $A$: $$A_{new}=\\frac{A}{4}+100$$\n",
    "and similarly, as shown in the lecture perform the operation: $$A_{new}=A*2$$\n",
    "Use both the ``bone_16bit.png`` image and the ``08_soil_and_roots_8bit.png`` image as input. Comment on how the image operation has changed the original image in both cases.\n",
    "\n",
    "**Hint:** Make sure that the matrix dimensions fit."
   ]
  },
  {
   "cell_type": "markdown",
   "id": "993b10c8",
   "metadata": {},
   "source": [
    "---\n",
    "#### Solution\n",
    "_- solve the exercise beneath using markdown and/or code blocks -_"
   ]
  },
  {
   "cell_type": "code",
   "execution_count": null,
   "id": "f5af17d5",
   "metadata": {},
   "outputs": [],
   "source": [
    "img = load_and_show_image(path=\"xxx\")\n",
    "\n",
    "# print the properties of the initial image and show its histogram\n",
    "show_histogram(image=xxx)\n",
    "# print the properties of the initial image\n",
    "print_image_props(xxx)"
   ]
  },
  {
   "cell_type": "code",
   "execution_count": null,
   "id": "a9f541c5-4d98-494d-a2f3-e4cdc23b37e0",
   "metadata": {},
   "outputs": [],
   "source": [
    "# perform the operation\n",
    "img_new = xxx\n",
    "\n",
    "# show the image and print the properties and show the histogram\n",
    "plt.imshow(img_new, cmap=\"gray\")\n",
    "print_image_props(img_new)\n",
    "show_histogram(image=img_new)"
   ]
  },
  {
   "cell_type": "code",
   "execution_count": null,
   "id": "c1155853",
   "metadata": {},
   "outputs": [],
   "source": [
    "# perform the operation\n",
    "img_new = xxx\n",
    "\n",
    "# show the image and print the properties and show the histogram\n",
    "plt.imshow(img_new, cmap=\"gray\")\n",
    "print_image_props(img_new)\n",
    "show_histogram(image=img_new)"
   ]
  },
  {
   "cell_type": "markdown",
   "id": "a327b293",
   "metadata": {},
   "source": [
    "---\n",
    "### Simple image operations #2"
   ]
  },
  {
   "cell_type": "markdown",
   "id": "2fc97ba2",
   "metadata": {},
   "source": [
    "**In addition** to adding or multiplying an image with scalars, we can **add/subtract/multiply/divide images**. This is a task performed often for example during the **flat** and **dark field correction** of projections prior to the 3D reconstruction of images.\n",
    "\n",
    "In the **next task**, please perform this correction of the projection ``08_proj.png`` in the data folder. In the same folder you will find the corresponding ``08_dark.png`` and ``08_flat.png`` image. Compare how the histogram of the projection changes due to the correction and comment on this based on what you observe qualitatively in the image."
   ]
  },
  {
   "cell_type": "markdown",
   "id": "7e29ad0a",
   "metadata": {},
   "source": [
    "---\n",
    "#### Solution\n",
    "_- solve the exercise beneath using markdown and/or code blocks -_"
   ]
  },
  {
   "cell_type": "code",
   "execution_count": null,
   "id": "19fa32cb",
   "metadata": {},
   "outputs": [],
   "source": [
    "# flat and dark fiel corrections\n",
    "# load required images\n",
    "\n",
    "flat = load_and_show_image(path=\"xxx\")\n",
    "dark = load_and_show_image(path=\"xxx\")\n",
    "proj = load_and_show_image(path=\"xxx\")"
   ]
  },
  {
   "cell_type": "code",
   "execution_count": null,
   "id": "bc1dd939",
   "metadata": {},
   "outputs": [],
   "source": [
    "# perform correction operation and display the result\n",
    "proj_corr = xxx\n",
    "plt.imshow(xxx, cmap=\"gray\")\n",
    "plt.show()"
   ]
  },
  {
   "cell_type": "code",
   "execution_count": null,
   "id": "6ca6cace",
   "metadata": {},
   "outputs": [],
   "source": [
    "# show the histogram of the original and the corrected projection\n",
    "show_histogram(image=xxx)\n",
    "show_histogram(image=xxx)"
   ]
  },
  {
   "cell_type": "markdown",
   "id": "7d53b3c2",
   "metadata": {},
   "source": [
    "---\n",
    "### Image quality #1"
   ]
  },
  {
   "cell_type": "markdown",
   "id": "ae7844bd",
   "metadata": {},
   "source": [
    "In addition to assessing the image histogram, we want to assess the image quality quantitatively. We can do so by calculating the **signal-to-noise ratio (SNR)** and **contrast-to-noise ratio (CNR)** for different regions of our image. In the following, you need to add missing code to two functions which will compuate **SNR** and **CNR** following the input of two image regions, respectively. We choose the following definitions of **SNR** and **CNR**: $$SNR = \\frac{S_i}{0.5\\sqrt{\\sigma_i^2+\\sigma_{bg}^2}}$$ and $$CNR = \\frac{|S_i-S_j|}{0.5\\sqrt{\\sigma_i^2+\\sigma_j^2}}$$\n",
    "where $S_i$ and $S_j$ are the mean greyscale values of the regions $i$ and $j$. The respective $\\sigma$ values correspond to the standard deviation of the greyscale values of the regions $i$ and $j$. For the **SNR** we attain the overall noise by taking into account the background noise too."
   ]
  },
  {
   "cell_type": "markdown",
   "id": "ee463827",
   "metadata": {},
   "source": [
    "---\n",
    "#### Solution\n",
    "_- solve the exercise beneath using markdown and/or code blocks -_"
   ]
  },
  {
   "cell_type": "code",
   "execution_count": 15,
   "id": "7a917861-ea99-4ca2-8d55-89ceec31e0f7",
   "metadata": {},
   "outputs": [],
   "source": [
    "def get_signal_to_noise_ratio(region_i, region_bg):\n",
    "    \"\"\"Calculates Signal-to-Noise Ratio (SNR) by the following expression:\n",
    "\n",
    "                SNR = |mean(region_i)| / 0.5*[sqrt(stdev(region_i)^2 + stdev(region_bg)^2)]\n",
    "\n",
    "    Args:\n",
    "        region_i(numpy.ndarray): Array slice defining region i\n",
    "        region_bg(numpy.ndarray): Array slice defining background region\n",
    "    Returns:\n",
    "        double: SNR value\n",
    "    \"\"\"\n",
    "\n",
    "    # calculate the mean value of region_i\n",
    "    a = xxx\n",
    "    # calculate the denominator of the SNR\n",
    "    b = xxx\n",
    "\n",
    "    # compute and return the SNR\n",
    "    SNR = a / b\n",
    "\n",
    "    return SNR\n",
    "\n",
    "\n",
    "def get_contrast_to_noise_ratio(region_i, region_j):\n",
    "    \"\"\"Calculates Contrast-to-Noise Ratio (CNR) by the following expression:\n",
    "\n",
    "                CNR = |mean(region_i) - mean(region_j)| / 0.5*[sqrt(stdev(region_i)^2 + stdev(region_j)^2)]\n",
    "\n",
    "    Args:\n",
    "        region_i(numpy.ndarray): Array slice defining region i\n",
    "        region_bg(numpy.ndarray): Array slice defining region j\n",
    "    Returns:\n",
    "        double: CNR value\n",
    "    \"\"\"\n",
    "\n",
    "    # calculate the numerator of the CNR\n",
    "    a = xxx\n",
    "    # calculate the denominator of the CNR\n",
    "    b = xxx\n",
    "\n",
    "    # compute and return the CNR\n",
    "    CNR = a / b\n",
    "\n",
    "    return CNR"
   ]
  },
  {
   "cell_type": "markdown",
   "id": "cf6dba5b",
   "metadata": {},
   "source": [
    "Based on the functions you have just created please calculate both **SNR** and **CNR** between the four quadrants of the image ``08_SNR_CNR.tif`` in the data folder. Overall, you should create four or six comparisons for **SNR** and **CNR**, respectively.\n",
    "\n",
    "**Hints:** \n",
    "- To calculate the SNR you may assume that the darkest image quadrant is the background.\n",
    "- In order to use the functions you must identify the regions within the image. Identify the image dimensions to do so."
   ]
  },
  {
   "cell_type": "code",
   "execution_count": null,
   "id": "4ca85c2e",
   "metadata": {},
   "outputs": [],
   "source": [
    "# load and display the image\n",
    "\n",
    "SNRCNR = load_and_show_image(path=\"xxx\")\n",
    "\n",
    "# print image properties\n",
    "print_image_props(SNRCNR)"
   ]
  },
  {
   "cell_type": "code",
   "execution_count": 17,
   "id": "57a4f8f5",
   "metadata": {},
   "outputs": [],
   "source": [
    "# define four regions based on the image and its dimensions\n",
    "q1 = SNRCNR[xxx:xxx, xxx:xxx]\n",
    "q2 = xxx\n",
    "q3 = xxx\n",
    "q4 = xxx"
   ]
  },
  {
   "cell_type": "code",
   "execution_count": null,
   "id": "8a464646",
   "metadata": {},
   "outputs": [],
   "source": [
    "# calculate all SNR and CNR\n",
    "SNR1 = get_signal_to_noise_ratio(xxx, xxx)\n",
    "SNR2 = xxx\n",
    "SNR3 = xxx\n",
    "SNR4 = xxx\n",
    "\n",
    "CNR12 = get_contrast_to_noise_ratio(xxx, xxx)\n",
    "CNR13 = xxx\n",
    "CNR14 = xxx\n",
    "CNR23 = xxx\n",
    "CNR24 = xxx\n",
    "CNR34 = xxx\n",
    "\n",
    "# print the computed values\n",
    "print(\"SNR of Q1:\", np.round(xxx, 2))\n",
    "print(\"SNR of Q2:\", np.round(xxx, 2))\n",
    "print(\"SNR of Q3:\", np.round(xxx, 2))\n",
    "print(\"SNR of Q4:\", np.round(xxx, 2))\n",
    "\n",
    "print(\"CNR of Q1 vs Q2:\", np.round(xxx, 2))\n",
    "print(\"CNR of Q1 vs Q3:\", np.round(xxx, 2))\n",
    "print(\"CNR of Q1 vs Q4:\", np.round(xxx, 2))\n",
    "print(\"CNR of Q2 vs Q3:\", np.round(xxx, 2))\n",
    "print(\"CNR of Q2 vs Q4:\", np.round(xxx, 2))\n",
    "print(\"CNR of Q3 vs Q4:\", np.round(xxx, 2))"
   ]
  },
  {
   "cell_type": "markdown",
   "id": "14efcdc1",
   "metadata": {},
   "source": [
    "Please comment on the values that you have obtained:\n",
    "- ..."
   ]
  },
  {
   "cell_type": "markdown",
   "id": "2bf7cd92",
   "metadata": {},
   "source": [
    "---\n",
    "### Image quality #2"
   ]
  },
  {
   "cell_type": "markdown",
   "id": "ea93b8f7",
   "metadata": {},
   "source": [
    "In the **next task**, use image ``08_soil_and_roots_8bit_2.png`` and calculate the **CNR** for **root vs. soil**, **root vs. background** and **soil vs. background**. Please comment on why you are selecting specific regions and comment on your results."
   ]
  },
  {
   "cell_type": "markdown",
   "id": "20dd5d02",
   "metadata": {},
   "source": [
    "---\n",
    "#### Solution\n",
    "_- solve the exercise beneath using markdown and/or code blocks -_"
   ]
  },
  {
   "cell_type": "code",
   "execution_count": null,
   "id": "a53adfbe-8a40-4120-b61d-e3d77b2940cf",
   "metadata": {},
   "outputs": [],
   "source": [
    "earth = load_and_show_image(path=\"xxx\")\n",
    "\n",
    "print_image_props(xxx)"
   ]
  },
  {
   "cell_type": "code",
   "execution_count": null,
   "id": "7e62aecb",
   "metadata": {},
   "outputs": [],
   "source": [
    "# Select different regions from the image and calculate SNR and CNR values\n",
    "# Regions\n",
    "air = earth[xxx:xxx, xxx:xxx]\n",
    "soil = xxx\n",
    "root = xxx\n",
    "\n",
    "# Visualizing them on the image\n",
    "img_aux = earth.copy()\n",
    "row_air, col_air = skimage.draw.rectangle_perimeter(start=(xxx, xxx), end=(xxx, xxx))\n",
    "row_soil, col_soil = skimage.draw.rectangle_perimeter(start=(xxx, xxx), end=(xxx, xxx))\n",
    "row_root, col_root = skimage.draw.rectangle_perimeter(start=(xxx, xxx), end=(xxx, xxx))\n",
    "\n",
    "# For better vizualization\n",
    "fig, ax = plt.subplots()\n",
    "ax.imshow(img_aux, cmap=\"gray\")\n",
    "ax.plot(col_air, row_air, \"-r\")\n",
    "ax.plot(col_soil, row_soil, \"-g\")\n",
    "ax.plot(col_root, row_root, \"-b\")\n",
    "\n",
    "# Calculate CNR\n",
    "# CNR - Soil and Root\n",
    "CNR1 = get_contrast_to_noise_ratio(soil, xxx)\n",
    "print(\"CNR soil vs. root: \", np.round(CNR1, 2))\n",
    "\n",
    "# CNR - Soil and Air\n",
    "CNR2 = get_contrast_to_noise_ratio(xxx, xxx)\n",
    "print(\"CNR soil vs. air: \", np.round(CNR2, 2))\n",
    "\n",
    "# CNR - Air and Root\n",
    "CNR3 = get_contrast_to_noise_ratio(xxx, xxx)\n",
    "print(\"CNR air vs. root: \", np.round(CNR3, 2))"
   ]
  },
  {
   "cell_type": "markdown",
   "id": "537aba26",
   "metadata": {},
   "source": [
    "---"
   ]
  }
 ],
 "metadata": {
  "kernelspec": {
   "display_name": ".venv",
   "language": "python",
   "name": "python3"
  },
  "language_info": {
   "codemirror_mode": {
    "name": "ipython",
    "version": 3
   },
   "file_extension": ".py",
   "mimetype": "text/x-python",
   "name": "python",
   "nbconvert_exporter": "python",
   "pygments_lexer": "ipython3",
   "version": "3.12.7"
  }
 },
 "nbformat": 4,
 "nbformat_minor": 5
}
