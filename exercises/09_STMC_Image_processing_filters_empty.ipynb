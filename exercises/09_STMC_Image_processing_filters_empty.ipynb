{
 "cells": [
  {
   "cell_type": "markdown",
   "id": "ca6dd74b",
   "metadata": {},
   "source": [
    "## Image processing - filters"
   ]
  },
  {
   "cell_type": "markdown",
   "id": "5167d6b5",
   "metadata": {},
   "source": [
    "By going through this jupyter notebook and filling in the blanks you will learn how to apply different image processing filters to an image.\n",
    "\n",
    "The example code and solutions were created by **André Lopes Marinho** and **Berit Zeller-Plumhoff**."
   ]
  },
  {
   "cell_type": "markdown",
   "id": "f2054f08",
   "metadata": {},
   "source": [
    "You will require the following libraries. If loading any of them fails, please use ``pip install`` to install any missing libraries."
   ]
  },
  {
   "cell_type": "code",
   "execution_count": 7,
   "id": "581e3de1",
   "metadata": {},
   "outputs": [],
   "source": [
    "# Importing libraries\n",
    "import numpy as np\n",
    "import math\n",
    "import matplotlib.pyplot as plt\n",
    "import imageio as iio\n",
    "import skimage\n",
    "from scipy.ndimage import gaussian_filter as scipy_gaussian_filter\n",
    "from scipy.ndimage import median_filter as scipy_median_filter"
   ]
  },
  {
   "cell_type": "markdown",
   "id": "aa57e703",
   "metadata": {},
   "source": [
    "---\n",
    "### Loading relevant functions from the previous notebook"
   ]
  },
  {
   "cell_type": "code",
   "execution_count": 8,
   "id": "bc860e11-3daf-4301-92b1-3978b70c7b40",
   "metadata": {},
   "outputs": [],
   "source": [
    "def load_and_show_image(path):\n",
    "    \"\"\"\n",
    "    Load and display an image from the given path.\n",
    "\n",
    "    Args:\n",
    "        path (str): The path to the image file, including the file extension.\n",
    "                    Example: \"images/example.tif\"\n",
    "\n",
    "    Returns:\n",
    "        numpy.ndarray: The image data as a NumPy array.\n",
    "    \"\"\"\n",
    "    # Use imageio to read the image\n",
    "    image = iio.imread(path)\n",
    "\n",
    "    # Display the image in grayscale using matplotlib\n",
    "    plt.imshow(image, cmap=\"gray\")\n",
    "    plt.show()  # Ensure the image is displayed\n",
    "\n",
    "    # Print a success message\n",
    "    print(f\"The image from {path} was loaded successfully.\")\n",
    "\n",
    "    return image\n",
    "\n",
    "\n",
    "def get_signal_to_noise_ratio(region_i, region_bg):\n",
    "    \"\"\"Calculates Signal-to-Noise Ratio (SNR) by the following expression:\n",
    "\n",
    "                SNR = |mean(region_i)| / 0.5*[sqrt(stdev(region_i)^2 + stdev(region_bg)^2)]\n",
    "\n",
    "    Args:\n",
    "        region_i(numpy.ndarray): Array slice defining region i\n",
    "        region_bg(numpy.ndarray): Array slice defining background region\n",
    "    Returns:\n",
    "        double: SNR value\n",
    "    \"\"\"\n",
    "\n",
    "    # calculate the mean value of region_i\n",
    "    a = np.mean(region_i)\n",
    "    # calculate the denominator of the SNR\n",
    "    b = 0.5 * math.sqrt(np.std(region_i) ** 2 + np.std(region_bg) ** 2)\n",
    "\n",
    "    # compute and return the SNR\n",
    "    SNR = a / b\n",
    "\n",
    "    return SNR\n",
    "\n",
    "\n",
    "def get_contrast_to_noise_ratio(region_i, region_j):\n",
    "    \"\"\"Calculates Contrast-to-Noise Ratio (CNR) by the following expression:\n",
    "\n",
    "                CNR = |mean(region_i) - mean(region_j)| / 0.5*[sqrt(stdev(region_i)^2 + stdev(region_j)^2)]\n",
    "\n",
    "    Args:\n",
    "        region_i(numpy.ndarray): Array slice defining region i\n",
    "        region_bg(numpy.ndarray): Array slice defining region j\n",
    "    Returns:\n",
    "        double: CNR value\n",
    "    \"\"\"\n",
    "\n",
    "    # calculate the numerator of the CNR\n",
    "    a = abs(np.mean(region_i) - np.mean(region_j))\n",
    "    # calculate the denominator of the CNR\n",
    "    b = 0.5 * math.sqrt(np.std(region_i) ** 2 + np.std(region_j) ** 2)\n",
    "\n",
    "    # compute and return the CNR\n",
    "    CNR = a / b\n",
    "\n",
    "    return CNR"
   ]
  },
  {
   "cell_type": "markdown",
   "id": "7d3e7b95",
   "metadata": {},
   "source": [
    "---\n",
    "### Load and display the image used for the exercise"
   ]
  },
  {
   "cell_type": "markdown",
   "id": "eb1e23fa",
   "metadata": {},
   "source": [
    "Load and display image ``08_soil_and_roots_8bit_2.png`` using ``load_and_show_image()`` function you defined in the previous exercise."
   ]
  },
  {
   "cell_type": "markdown",
   "id": "4e27e68c",
   "metadata": {},
   "source": [
    "---\n",
    "#### Solution\n",
    "_- solve the exercise beneath using markdown and/or code blocks -_"
   ]
  },
  {
   "cell_type": "code",
   "execution_count": null,
   "id": "9aa83588",
   "metadata": {},
   "outputs": [],
   "source": [
    "# Ensure images display in the Jupyter notebook as static image, interactive widget or in a seperate window. [inline, widget, qt]\n",
    "%matplotlib inline\n",
    "\n",
    "# load the image used for the exercise and show it\n",
    "image_raw = "
   ]
  },
  {
   "cell_type": "markdown",
   "id": "0513c911",
   "metadata": {},
   "source": [
    "---\n",
    "### Image filters - Mean filter"
   ]
  },
  {
   "cell_type": "markdown",
   "id": "0b7d3024",
   "metadata": {},
   "source": [
    "If the image quality that we have determined is insufficient, e.g. if the **CNR is particularly low**, we can apply **filters to improve the noise level** while maintaining the sharpness of the features we are interested in.  \n",
    "To do so, you will complete a function that defines a **mean filter** which is applied as a quadratic kernel template to the image. The function takes the original image and the filter kernel size as input and outputs the filtered image. You can move the template across the image in a scanning manner - in order to adjust for the edges correctly, you should apply a **zero padding at the image borders**."
   ]
  },
  {
   "cell_type": "markdown",
   "id": "fb9135f8",
   "metadata": {},
   "source": [
    "---\n",
    "#### Solution\n",
    "_- solve the exercise beneath using markdown and/or code blocks -_"
   ]
  },
  {
   "cell_type": "code",
   "execution_count": 5,
   "id": "3d07af47-4b19-4c14-96bc-230595b241b2",
   "metadata": {},
   "outputs": [],
   "source": [
    "def mean_filter(image, filter_size):\n",
    "    \"\"\"Applies mean filter in a given image.\n",
    "\n",
    "    Args:\n",
    "        image(numpy.ndarray): Image to be filtered\n",
    "        filter_size(int): Size of kernel\n",
    "    Returns:\n",
    "        numpy.ndarray: Filtered image\n",
    "    \"\"\"\n",
    "\n",
    "    return img_final"
   ]
  },
  {
   "cell_type": "markdown",
   "id": "6faabb2b",
   "metadata": {},
   "source": [
    "Apply the filter to the image ``08_soil_and_roots_8bit_2.png`` with **different kernel sizes** and plot both the original and the filtered image next to each other."
   ]
  },
  {
   "cell_type": "code",
   "execution_count": null,
   "id": "b5f28ead",
   "metadata": {},
   "outputs": [],
   "source": [
    "# Mean filter\n",
    "img_mean = \n",
    "\n",
    "# Plot your results to compare each one\n",
    "fig, (ax1, ax2) = "
   ]
  },
  {
   "cell_type": "markdown",
   "id": "6e56b5e8",
   "metadata": {},
   "source": [
    "**Finally**, compute the **CNR** for the same regions your defined on the image in the last exercise."
   ]
  },
  {
   "cell_type": "code",
   "execution_count": null,
   "id": "e32eea18",
   "metadata": {},
   "outputs": [],
   "source": [
    "# Select different regions from the image and calculate SNR and CNR values\n",
    "\n",
    "# Regions\n",
    "\n",
    "\n",
    "# Visualizing them on the image\n",
    "\n",
    "\n",
    "# For better vizualization\n",
    "fig, ax = plt.subplots()\n",
    "ax.imshow(img_aux, cmap=\"gray\")\n",
    "ax.plot(col_air, row_air, \"-r\")\n",
    "ax.plot(col_soil, row_soil, \"-g\")\n",
    "ax.plot(col_root, row_root, \"-b\")\n",
    "\n",
    "# Calculate CNR\n",
    "\n",
    "# CNR - Soil and Root\n",
    "CNR1_mean = get_contrast_to_noise_ratio(, )\n",
    "print(\"CNR soil vs. root after filtering: \", )\n",
    "\n",
    "# CNR - Soil and Air\n",
    "\n",
    "# CNR - Air and Root"
   ]
  },
  {
   "cell_type": "markdown",
   "id": "e241e1a9",
   "metadata": {},
   "source": [
    "Comment on how a **mean filter with kernel size 3** has changed the **CNR** values:\n",
    "- ..."
   ]
  },
  {
   "cell_type": "markdown",
   "id": "37335ac3",
   "metadata": {},
   "source": [
    "---\n",
    "### Image filters - Median filter"
   ]
  },
  {
   "cell_type": "markdown",
   "id": "54c09614",
   "metadata": {},
   "source": [
    "**In addition** to the mean filter, we are interested in using a **Median filter**. Write a function that will apply the respective filter and output the filtered image, given a certain input image and kernel size."
   ]
  },
  {
   "cell_type": "markdown",
   "id": "e3e21337",
   "metadata": {},
   "source": [
    "---\n",
    "#### Solution\n",
    "_- solve the exercise beneath using markdown and/or code blocks -_"
   ]
  },
  {
   "cell_type": "code",
   "execution_count": 14,
   "id": "afd40973",
   "metadata": {},
   "outputs": [],
   "source": [
    "def median_filter(image, filter_size):\n",
    "    \"\"\"Applies median filter in a given image.\n",
    "\n",
    "    Args:\n",
    "        image(numpy.ndarray): Image to be filtered\n",
    "        filter_size(int): Size of kernel\n",
    "    Returns:\n",
    "        numpy.ndarray: Filtered image\n",
    "    \"\"\"\n",
    "\n",
    "    return img_final\n"
   ]
  },
  {
   "cell_type": "markdown",
   "id": "ad21674a",
   "metadata": {},
   "source": [
    "Apply the filter to ``08_soil_and_roots_8bit_2.png`` using different filter parameters."
   ]
  },
  {
   "cell_type": "code",
   "execution_count": null,
   "id": "1aa105d9",
   "metadata": {},
   "outputs": [],
   "source": [
    "# median filter\n",
    "img_median = \n",
    "\n",
    "# Plot your results to compare each one\n"
   ]
  },
  {
   "cell_type": "markdown",
   "id": "404dda79",
   "metadata": {},
   "source": [
    "Comment on how the result changes by chaning the input settings.\n",
    "- ..."
   ]
  },
  {
   "cell_type": "markdown",
   "id": "cae2feaf",
   "metadata": {},
   "source": [
    "---\n",
    "### Image filters - Gaussian filter"
   ]
  },
  {
   "cell_type": "markdown",
   "id": "88c90c2e",
   "metadata": {},
   "source": [
    "We also like to apply a **Gaussian filter**. Write a function that will apply the respective filter and output the filtered image, given a certain input image and standard deviation $\\sigma$.\n",
    "\n",
    "**Hint:** You can use the `scipy.ndimage.filters.gaussian_filter` function for an easier implementation."
   ]
  },
  {
   "cell_type": "markdown",
   "id": "2b482d9d",
   "metadata": {},
   "source": [
    "---\n",
    "#### Solution\n",
    "_- solve the exercise beneath using markdown and/or code blocks -_"
   ]
  },
  {
   "cell_type": "code",
   "execution_count": 9,
   "id": "4be480b0",
   "metadata": {},
   "outputs": [],
   "source": [
    "def gaussian_filter(image, filter_size, sigma):\n",
    "    \"\"\"Applies Gaussian filter to a given image.\n",
    "\n",
    "    Args:\n",
    "        image (numpy.ndarray): Image to be filtered\n",
    "        filter_size(int): Size of kernel\n",
    "        sigma (float): Standard deviation for Gaussian kernel\n",
    "\n",
    "    Returns:\n",
    "        numpy.ndarray: Filtered image\n",
    "    \"\"\"\n",
    "\n",
    "    # Apply the Gaussian filter using SciPy's gaussian_filter function\n",
    "\n",
    "    return img_final"
   ]
  },
  {
   "cell_type": "markdown",
   "id": "75c88247",
   "metadata": {},
   "source": [
    "Apply the filter to ``08_soil_and_roots_8bit_2.png`` using different filter parameters."
   ]
  },
  {
   "cell_type": "code",
   "execution_count": null,
   "id": "7357c18d",
   "metadata": {},
   "outputs": [],
   "source": [
    "img_gauss = \n",
    "\n",
    "# Plot your results to compare each one\n"
   ]
  },
  {
   "cell_type": "markdown",
   "id": "ee804955",
   "metadata": {},
   "source": [
    "Comment on how the result changes by chaning the input settings.\n",
    "- ..."
   ]
  },
  {
   "cell_type": "markdown",
   "id": "9cf8ecf3",
   "metadata": {},
   "source": [
    "---\n",
    "### Image Filters - Fourier filter"
   ]
  },
  {
   "cell_type": "markdown",
   "id": "01630196",
   "metadata": {},
   "source": [
    "**In addition** to the above filters, applying a **Fourier filter**, e.g. either a **high-, low- or a bandpass** filter can be very useful in order to highlight edges or smoothen the image. In the following, you should write three functions that will apply the different kinds of Fourier filters given an input image and the filter parameters.  \n",
    "Start by loading and displaying ``08_soil_and_roots_8bit_2.png`` - we will be working with this image in the following."
   ]
  },
  {
   "cell_type": "markdown",
   "id": "62c03847",
   "metadata": {},
   "source": [
    "---\n",
    "#### Solution\n",
    "_- solve the exercise beneath using markdown and/or code blocks -_"
   ]
  },
  {
   "cell_type": "markdown",
   "id": "109747ac",
   "metadata": {},
   "source": [
    "We will begin by applying a highpass filter - you will be required to use the image and the filter size as input to your function. Apply the **2D Fourier transform** from ``numpy`` to your image and shift the resulting spectrum to the center of the image. You should then create a circular mask based on the filter size that sets all low frequencies, i.e. those in the center of the Fourier spectrum, to zero. Then perform the inverse Fourier operations (shifting the spectrum back first).\n",
    "\n",
    "Plot the **original image**, the **magnitude spectrum**, the **highpass filter mask** and the **image after filtering** next to each other."
   ]
  },
  {
   "cell_type": "markdown",
   "id": "d61ba206",
   "metadata": {},
   "source": [
    "#### High Pass Filter"
   ]
  },
  {
   "cell_type": "code",
   "execution_count": 12,
   "id": "acd3d8ed",
   "metadata": {},
   "outputs": [],
   "source": [
    "def fft_highpass_filter(image, filter_size):\n",
    "    \"\"\"Applies highpass Fourier filter to a given image.\n",
    "\n",
    "    Args:\n",
    "        image(numpy.ndarray): Image to be filtered\n",
    "        filter_size(numpy.ndarray): Number of frequency-equivalent pixels to remove\n",
    "\n",
    "    Returns:\n",
    "        numpy.ndarray: Filtered image\n",
    "    \"\"\"\n",
    "    # use the numpy 2D Fourier function to transform the input image\n",
    "\n",
    "    # shift the spectrmu to the center\n",
    "\n",
    "    # draw a cylindrical mask using the filter size to filter out the low frequencies\n",
    "\n",
    "    # perform the inverse transform\n",
    "\n",
    "    # Plot the original image, the magnitude spectrum, the highpass filter mask\n",
    "    # and the image after filtering next to each other.\n",
    "\n",
    "    return img_back"
   ]
  },
  {
   "cell_type": "markdown",
   "id": "8029fd01",
   "metadata": {},
   "source": [
    "Now use the function you have just defined on the image of the soil and root **with different input filter sizes** and comment on how the filter influences the image."
   ]
  },
  {
   "cell_type": "code",
   "execution_count": null,
   "id": "7a6e56e3",
   "metadata": {},
   "outputs": [],
   "source": [
    "image_hpf = "
   ]
  },
  {
   "cell_type": "markdown",
   "id": "aa03d3a2",
   "metadata": {},
   "source": [
    "#### Low Pass Filter"
   ]
  },
  {
   "cell_type": "markdown",
   "id": "b9a77f52",
   "metadata": {},
   "source": [
    "Next, define a function for a **low-pass Fourier filter**. Do the same as above, but maintain the low frequencies this time."
   ]
  },
  {
   "cell_type": "code",
   "execution_count": 14,
   "id": "5c86a10e",
   "metadata": {},
   "outputs": [],
   "source": [
    "def fft_lowpass_filter(image, filter_size):\n",
    "    \"\"\"Applies lowpass Fourier filter to a given image.\n",
    "\n",
    "    Args:\n",
    "        image(numpy.ndarray): Image to be filtered\n",
    "        filter_size(numpy.ndarray): Number of frequency-equivalent pixels to remove\n",
    "\n",
    "    Returns:\n",
    "        numpy.ndarray: Filtered image\n",
    "    \"\"\"\n",
    "\n",
    "    return img_back"
   ]
  },
  {
   "cell_type": "markdown",
   "id": "ece06932",
   "metadata": {},
   "source": [
    "Apply the **low-pass filter** to the image of the soil and root for different input filter sizes and comment on how the image is changed."
   ]
  },
  {
   "cell_type": "code",
   "execution_count": null,
   "id": "942ccdca",
   "metadata": {},
   "outputs": [],
   "source": [
    "image_lpf = "
   ]
  },
  {
   "cell_type": "markdown",
   "id": "fa265ddb",
   "metadata": {},
   "source": [
    "#### Band Pass Filter"
   ]
  },
  {
   "cell_type": "markdown",
   "id": "e6a286d2",
   "metadata": {},
   "source": [
    "Finally, define a **Fourier bandpass filter** which takes two filter sizes as input for low- and high-frequency thresholds, respectively."
   ]
  },
  {
   "cell_type": "code",
   "execution_count": 16,
   "id": "0b2604e4",
   "metadata": {},
   "outputs": [],
   "source": [
    "def fft_bandpass_filter(image, filter_size1, filter_size2):\n",
    "    \"\"\"Applies bandpass fourier filter to a given image.\n",
    "\n",
    "    Args:\n",
    "        image(numpy.ndarray): Image to be filtered\n",
    "        filter_size1(numpy.ndarray): Number of frequency-equivalent pixels to remove fp\n",
    "\n",
    "    Returns:\n",
    "        numpy.ndarray: Filtered image\n",
    "    \"\"\"\n",
    "\n",
    "    return img_back"
   ]
  },
  {
   "cell_type": "markdown",
   "id": "e4a355ff",
   "metadata": {},
   "source": [
    "Apply the **bandpass filter** to the image of the soil and root for different input filter sizes and comment on how the image is changed."
   ]
  },
  {
   "cell_type": "code",
   "execution_count": null,
   "id": "b25fb5f5",
   "metadata": {},
   "outputs": [],
   "source": [
    "image_bpf = "
   ]
  },
  {
   "cell_type": "markdown",
   "id": "537aba26",
   "metadata": {},
   "source": [
    "---"
   ]
  }
 ],
 "metadata": {
  "kernelspec": {
   "display_name": ".venv",
   "language": "python",
   "name": "python3"
  },
  "language_info": {
   "codemirror_mode": {
    "name": "ipython",
    "version": 3
   },
   "file_extension": ".py",
   "mimetype": "text/x-python",
   "name": "python",
   "nbconvert_exporter": "python",
   "pygments_lexer": "ipython3",
   "version": "3.12.7"
  }
 },
 "nbformat": 4,
 "nbformat_minor": 5
}
