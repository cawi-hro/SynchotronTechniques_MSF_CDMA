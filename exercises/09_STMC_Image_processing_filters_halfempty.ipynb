{
 "cells": [
  {
   "cell_type": "markdown",
   "id": "ca6dd74b",
   "metadata": {},
   "source": [
    "## Image processing - filters"
   ]
  },
  {
   "cell_type": "markdown",
   "id": "5167d6b5",
   "metadata": {},
   "source": [
    "By going through this jupyter notebook and filling in the blanks you will learn how to apply different image processing filters to an image.\n",
    "\n",
    "The example code and solutions were created by **André Lopes Marinho** and **Berit Zeller-Plumhoff**."
   ]
  },
  {
   "cell_type": "markdown",
   "id": "f2054f08",
   "metadata": {},
   "source": [
    "You will require the following libraries. If loading any of them fails, please use ``pip install`` to install any missing libraries."
   ]
  },
  {
   "cell_type": "code",
   "execution_count": 1,
   "id": "581e3de1",
   "metadata": {},
   "outputs": [],
   "source": [
    "# Importing libraries\n",
    "import numpy as np\n",
    "import math\n",
    "import matplotlib.pyplot as plt\n",
    "import imageio as iio\n",
    "import skimage"
   ]
  },
  {
   "cell_type": "markdown",
   "id": "aa57e703",
   "metadata": {},
   "source": [
    "---\n",
    "### Loading relevant functions from the previous notebook"
   ]
  },
  {
   "cell_type": "code",
   "execution_count": 2,
   "id": "bc860e11-3daf-4301-92b1-3978b70c7b40",
   "metadata": {},
   "outputs": [],
   "source": [
    "def load_and_show_image(path):\n",
    "    \"\"\"\n",
    "    Load and display an image from the given path.\n",
    "\n",
    "    Args:\n",
    "        path (str): The path to the image file, including the file extension.\n",
    "                    Example: \"images/example.tif\"\n",
    "\n",
    "    Returns:\n",
    "        numpy.ndarray: The image data as a NumPy array.\n",
    "    \"\"\"\n",
    "    # Use imageio to read the image\n",
    "    image = iio.imread(path)\n",
    "\n",
    "    # Display the image in grayscale using matplotlib\n",
    "    plt.imshow(image, cmap=\"gray\")\n",
    "    plt.show()  # Ensure the image is displayed\n",
    "\n",
    "    # Print a success message\n",
    "    print(f\"The image from {path} was loaded successfully.\")\n",
    "\n",
    "    return image\n",
    "\n",
    "\n",
    "def get_signal_to_noise_ratio(region_i, region_bg):\n",
    "    \"\"\"Calculates Signal-to-Noise Ratio (SNR) by the following expression:\n",
    "\n",
    "                SNR = |mean(region_i)| / 0.5*[sqrt(stdev(region_i)^2 + stdev(region_bg)^2)]\n",
    "\n",
    "    Args:\n",
    "        region_i(numpy.ndarray): Array slice defining region i\n",
    "        region_bg(numpy.ndarray): Array slice defining background region\n",
    "    Returns:\n",
    "        double: SNR value\n",
    "    \"\"\"\n",
    "\n",
    "    # calculate the mean value of region_i\n",
    "    a = np.mean(region_i)\n",
    "    # calculate the denominator of the SNR\n",
    "    b = 0.5 * math.sqrt(np.std(region_i) ** 2 + np.std(region_bg) ** 2)\n",
    "\n",
    "    # compute and return the SNR\n",
    "    SNR = a / b\n",
    "\n",
    "    return SNR\n",
    "\n",
    "\n",
    "def get_contrast_to_noise_ratio(region_i, region_j):\n",
    "    \"\"\"Calculates Contrast-to-Noise Ratio (CNR) by the following expression:\n",
    "\n",
    "                CNR = |mean(region_i) - mean(region_j)| / 0.5*[sqrt(stdev(region_i)^2 + stdev(region_j)^2)]\n",
    "\n",
    "    Args:\n",
    "        region_i(numpy.ndarray): Array slice defining region i\n",
    "        region_bg(numpy.ndarray): Array slice defining region j\n",
    "    Returns:\n",
    "        double: CNR value\n",
    "    \"\"\"\n",
    "\n",
    "    # calculate the numerator of the CNR\n",
    "    a = abs(np.mean(region_i) - np.mean(region_j))\n",
    "    # calculate the denominator of the CNR\n",
    "    b = 0.5 * math.sqrt(np.std(region_i) ** 2 + np.std(region_j) ** 2)\n",
    "\n",
    "    # compute and return the CNR\n",
    "    CNR = a / b\n",
    "\n",
    "    return CNR"
   ]
  },
  {
   "cell_type": "markdown",
   "id": "7d3e7b95",
   "metadata": {},
   "source": [
    "---\n",
    "### Load and display the image used for the exercise"
   ]
  },
  {
   "cell_type": "markdown",
   "id": "eb1e23fa",
   "metadata": {},
   "source": [
    "Load and display image ``08_soil_and_roots_8bit_2.png`` using ``load_and_show_image()`` function you defined in the previous exercise."
   ]
  },
  {
   "cell_type": "markdown",
   "id": "4e27e68c",
   "metadata": {},
   "source": [
    "---\n",
    "_- solve the exercise beneath using markdown and/or code blocks -_"
   ]
  },
  {
   "cell_type": "code",
   "execution_count": null,
   "id": "9aa83588",
   "metadata": {},
   "outputs": [],
   "source": [
    "# Ensure images display in the Jupyter notebook as static image, interactive widget or in a seperate window. [inline, widget, qt]\n",
    "%matplotlib inline\n",
    "\n",
    "# load the image used for the exercise and show it\n",
    "image_raw = load_and_show_image(path=\"\")"
   ]
  },
  {
   "cell_type": "markdown",
   "id": "0513c911",
   "metadata": {},
   "source": [
    "---\n",
    "### Image filters - Mean filter"
   ]
  },
  {
   "cell_type": "markdown",
   "id": "0b7d3024",
   "metadata": {},
   "source": [
    "If the image quality that we have determined is insufficient, e.g. if the **CNR is particularly low**, we can apply **filters to improve the noise level** while maintaining the sharpness of the features we are interested in.  \n",
    "To do so, you will complete a function that defines a **mean filter** which is applied as a quadratic kernel template to the image. The function takes the original image and the filter kernel size as input and outputs the filtered image. You can move the template across the image in a scanning manner - in order to adjust for the edges correctly, you should apply a **zero padding at the image borders**."
   ]
  },
  {
   "cell_type": "markdown",
   "id": "fb9135f8",
   "metadata": {},
   "source": [
    "---\n",
    "_- solve the exercise beneath using markdown and/or code blocks -_"
   ]
  },
  {
   "cell_type": "code",
   "execution_count": 4,
   "id": "3d07af47-4b19-4c14-96bc-230595b241b2",
   "metadata": {},
   "outputs": [],
   "source": [
    "def mean_filter(image, filter_size):\n",
    "    \"\"\"Applies a mean filter to the given image.\n",
    "\n",
    "    Args:\n",
    "        image (numpy.ndarray): The image to be filtered.\n",
    "        filter_size (int): The size of the filter (kernel).\n",
    "    Returns:\n",
    "        numpy.ndarray: The filtered image.\n",
    "    \"\"\"\n",
    "\n",
    "    # Create an empty list to temporarily store the image slices (not used later, so this isn't necessary)\n",
    "    temp = []\n",
    "\n",
    "    # Calculate the padding needed to extend the image edges\n",
    "    padding = filter_size // 2\n",
    "\n",
    "    # Create an empty image with the same dimensions as the input image\n",
    "    img_final = np.zeros((image.shape))\n",
    "\n",
    "    # Create an auxiliary image (img_aux) which is larger to accommodate the padding around the original image\n",
    "    img_aux = np.zeros((image.shape[0] + padding * 2, image.shape[1] + padding * 2))\n",
    "\n",
    "    # Copy the original image into the center of the auxiliary image\n",
    "    img_aux[padding:-padding, padding:-padding] = image.copy()\n",
    "\n",
    "    # Iterate over each pixel in the original image\n",
    "    for i in range(image.shape[0]):\n",
    "        for j in range(image.shape[1]):\n",
    "            # Extract a region (sub-array) of the size of the filter from the auxiliary image\n",
    "            temp = img_aux[i : i + filter_size, j : j + filter_size]\n",
    "\n",
    "            # Calculate the mean of the selected region and store it in the final image\n",
    "            img_final[i][j] = np.mean(temp)\n",
    "\n",
    "    # Return the filtered image\n",
    "    return img_final\n"
   ]
  },
  {
   "cell_type": "markdown",
   "id": "a1a5ad2e",
   "metadata": {},
   "source": [
    "To understand the above function, we split it into single steps."
   ]
  },
  {
   "cell_type": "code",
   "execution_count": 5,
   "id": "90237840",
   "metadata": {},
   "outputs": [],
   "source": [
    "image = image_raw\n",
    "\n",
    "# set the filter size parameter\n",
    "filter_size = \n",
    "\n",
    "# Calculate the padding needed to extend the image edges in all directions\n",
    "padding = \n",
    "# Create an empty image with the same dimensions as the input image\n",
    "img_final = "
   ]
  },
  {
   "cell_type": "markdown",
   "id": "d9a60837",
   "metadata": {},
   "source": [
    "Create the auxiliary larger image and plot against the original image:"
   ]
  },
  {
   "cell_type": "code",
   "execution_count": null,
   "id": "86c3c1ac",
   "metadata": {},
   "outputs": [],
   "source": [
    "img_aux = \n",
    "\n",
    "fig, (ax1, ax2) = plt.subplots(1, 2)\n",
    "ax1.imshow(image_raw, cmap=\"gray\")\n",
    "ax2.imshow(img_aux, cmap=\"gray\")\n",
    "\n",
    "print(f\"Raw image shape: {image_raw.shape}\")\n",
    "print(f\"Auxiliary image shape: {img_aux.shape}\")"
   ]
  },
  {
   "cell_type": "markdown",
   "id": "e5173263",
   "metadata": {},
   "source": [
    "Copy the pixel from the raw image to the auxiliary image. Note the black frame in the right-hand picture."
   ]
  },
  {
   "cell_type": "code",
   "execution_count": null,
   "id": "9c58aaab",
   "metadata": {},
   "outputs": [],
   "source": [
    "img_aux[] = image.copy()\n",
    "\n",
    "fig, (ax1, ax2) = plt.subplots(1, 2)\n",
    "ax1.imshow(image_raw, cmap=\"gray\")\n",
    "ax2.imshow(img_aux, cmap=\"gray\")\n",
    "\n",
    "print(f\"Raw image shape: {image_raw.shape}\")\n",
    "print(f\"Auxiliary image shape: {img_aux.shape}\")"
   ]
  },
  {
   "cell_type": "markdown",
   "id": "276a9980",
   "metadata": {},
   "source": [
    "Select some ``i`` and ``j`` values to check what the loop does for each pixel."
   ]
  },
  {
   "cell_type": "code",
   "execution_count": null,
   "id": "80266a9b",
   "metadata": {},
   "outputs": [],
   "source": [
    "i = \n",
    "j = \n",
    "temp = img_aux[, ]\n",
    "\n",
    "fig, (ax1, ax2) = plt.subplots(1, 2)\n",
    "ax1.imshow(image_raw, cmap=\"gray\")\n",
    "ax2.imshow(temp, cmap=\"gray\")\n",
    "\n",
    "print(f\"Raw image shape: {image_raw.shape}\")\n",
    "print(f\"Temp image shape: {temp.shape}\")"
   ]
  },
  {
   "cell_type": "markdown",
   "id": "36315f17",
   "metadata": {},
   "source": [
    "Calculate the mean grey value of the selected region and store it in the final image at the desired pixel position `i` and `j`."
   ]
  },
  {
   "cell_type": "code",
   "execution_count": null,
   "id": "0bd6576b",
   "metadata": {},
   "outputs": [],
   "source": [
    "img_final[][] = np.mean(temp)\n",
    "\n",
    "fig, (ax1, ax2) = plt.subplots(1, 2)\n",
    "ax1.imshow(img_aux, cmap=\"gray\")\n",
    "ax2.imshow(img_final, cmap=\"gray\")\n",
    "\n",
    "print(f\"Raw image shape: {img_aux.shape}\")\n",
    "print(f\"Auxiliary image shape: {img_final.shape}\")"
   ]
  },
  {
   "cell_type": "markdown",
   "id": "6faabb2b",
   "metadata": {},
   "source": [
    "Apply the filter to the image ``08_soil_and_roots_8bit_2.png`` with **different kernel sizes** and plot both the original and the filtered image next to each other."
   ]
  },
  {
   "cell_type": "code",
   "execution_count": null,
   "id": "b5f28ead",
   "metadata": {},
   "outputs": [],
   "source": [
    "# Mean filter\n",
    "img_mean = mean_filter(, )\n",
    "\n",
    "# Plot your results to compare each one\n",
    "fig, (ax1, ax2) = plt.subplots(1, 2)\n",
    "ax1.imshow(image_raw, cmap=\"gray\")\n",
    "ax2.imshow(img_mean, cmap=\"gray\")\n",
    "fig.tight_layout()"
   ]
  },
  {
   "cell_type": "markdown",
   "id": "6e56b5e8",
   "metadata": {},
   "source": [
    "**Finally**, compute the **CNR** for the same regions your defined on the image in the last exercise."
   ]
  },
  {
   "cell_type": "code",
   "execution_count": null,
   "id": "e32eea18",
   "metadata": {},
   "outputs": [],
   "source": [
    "# Select different regions from the image and calculate SNR and CNR values\n",
    "\n",
    "# Regions from last exercise\n",
    "air2 = img_mean[75:100, 185:210]\n",
    "soil2 = img_mean[75:100, 110:135]\n",
    "root2 = img_mean[55:75, 70:90]\n",
    "\n",
    "# Visualizing them on the image\n",
    "\n",
    "img_aux = img_mean.copy()\n",
    "\n",
    "row_air, col_air = skimage.draw.rectangle_perimeter(start=(75, 185), end=(100, 210))\n",
    "row_soil, col_soil = skimage.draw.rectangle_perimeter(start=(75, 110), end=(100, 135))\n",
    "row_root, col_root = skimage.draw.rectangle_perimeter(start=(55, 70), end=(75, 90))\n",
    "\n",
    "# For better vizualization\n",
    "\n",
    "fig, ax = plt.subplots()\n",
    "ax.imshow(img_aux, cmap=\"gray\")\n",
    "ax.plot(col_air, row_air, \"-r\")\n",
    "ax.plot(col_soil, row_soil, \"-g\")\n",
    "ax.plot(col_root, row_root, \"-b\")\n",
    "\n",
    "# Calculate CNR\n",
    "\n",
    "# CNR - Soil and Root\n",
    "CNR1_mean = get_contrast_to_noise_ratio(soil2, )\n",
    "print(\"CNR soil vs. root after filtering: \", np.round(, 2))\n",
    "\n",
    "# CNR - Soil and Air\n",
    "\n",
    "# CNR - Air and Root"
   ]
  },
  {
   "cell_type": "markdown",
   "id": "4293f11e",
   "metadata": {},
   "source": [
    "**Comment:**  \n",
    "As the **CNR** has increased by a factor of approx. 2 for all region comparisons, we can assume that the **mean filter** with **kernel size 3** has reduced the noise in the image by the same factor."
   ]
  },
  {
   "cell_type": "markdown",
   "id": "37335ac3",
   "metadata": {},
   "source": [
    "---\n",
    "### Image filters - Median filter"
   ]
  },
  {
   "cell_type": "markdown",
   "id": "54c09614",
   "metadata": {},
   "source": [
    "**In addition** to the mean filter, we are interested in using a **median filter**. Write a function that will apply the respective filter and output the filtered image, given a certain input image and kernel size."
   ]
  },
  {
   "cell_type": "markdown",
   "id": "e3e21337",
   "metadata": {},
   "source": [
    "---\n",
    "_- solve the exercise beneath using markdown and/or code blocks -_"
   ]
  },
  {
   "cell_type": "code",
   "execution_count": 12,
   "id": "afd40973",
   "metadata": {},
   "outputs": [],
   "source": [
    "def median_filter(image, filter_size):\n",
    "    \"\"\"Applies median filter in a given image.\n",
    "\n",
    "    Args:\n",
    "        image(numpy.ndarray): Image to be filtered\n",
    "        filter_size(int): Size of kernel\n",
    "    Returns:\n",
    "        numpy.ndarray: Filtered image\n",
    "    \"\"\"\n",
    "\n",
    "    return img_final\n"
   ]
  },
  {
   "cell_type": "markdown",
   "id": "ad21674a",
   "metadata": {},
   "source": [
    "Apply the filter to ``08_soil_and_roots_8bit_2.png`` using different filter parameters."
   ]
  },
  {
   "cell_type": "code",
   "execution_count": null,
   "id": "1aa105d9",
   "metadata": {},
   "outputs": [],
   "source": [
    "# median filter\n",
    "image_median = median_filter(, )\n",
    "\n",
    "# Plot your results to compare each one\n",
    "fig, (ax1, ax2) = plt.subplots(1, 2)\n",
    "ax1.imshow(image_raw, cmap=\"gray\")\n",
    "ax2.imshow(image_median, cmap=\"gray\")\n",
    "fig.tight_layout()"
   ]
  },
  {
   "cell_type": "markdown",
   "id": "15365ca1",
   "metadata": {},
   "source": [
    "**Comment:**  \n",
    "The images indicate that **larger kernel sizes overall lead to a stronger smoothing of the image**. The kernel sizes are set higher than they would often be set to emphasize the point. It is visible that the median filter maintains edges well while smoothing, if we consider in particular kernel size 10 and compare to mean filter, which lead to higher blurring."
   ]
  },
  {
   "cell_type": "markdown",
   "id": "cae2feaf",
   "metadata": {},
   "source": [
    "---\n",
    "### Image filters - Gaussian filter"
   ]
  },
  {
   "cell_type": "markdown",
   "id": "47a8d80b",
   "metadata": {},
   "source": [
    "We also like to apply a **Gaussian filter**. Write a function that will apply the respective filter and output the filtered image, given a certain input image and standard deviation $\\sigma$."
   ]
  },
  {
   "cell_type": "markdown",
   "id": "2b482d9d",
   "metadata": {},
   "source": [
    "---\n",
    "_- solve the exercise beneath using markdown and/or code blocks -_"
   ]
  },
  {
   "cell_type": "code",
   "execution_count": 16,
   "id": "4be480b0",
   "metadata": {},
   "outputs": [],
   "source": [
    "def gaussian_filter(image, filter_size, sigma):\n",
    "    \"\"\"Applies median filter to a given image.\n",
    "\n",
    "    Args:\n",
    "        image(numpy.ndarray): Image to be filtered\n",
    "        filter_size(numpy.ndarray): Size of kernel\n",
    "        sigma(double): Standard deviation for Gaussian distribution\n",
    "\n",
    "    Returns:\n",
    "        numpy.ndarray: Filtered image\n",
    "    \"\"\"\n",
    "    temp = []\n",
    "    padding = filter_size // 2\n",
    "    img_final = np.zeros((image.shape))\n",
    "\n",
    "    kernel = np.fromfunction(\n",
    "        lambda x, y:   # try to implement the gaussian kernel here\n",
    "        ,\n",
    "        (filter_size, filter_size),\n",
    "    )\n",
    "\n",
    "    kernel /= np.sum(kernel)\n",
    "\n",
    "    img_aux = np.zeros((image.shape[0] + padding * 2, image.shape[1] + padding * 2))\n",
    "    img_aux[padding:-padding, padding:-padding] = image.copy()\n",
    "\n",
    "    for i in range(image.shape[0]):\n",
    "        for j in range(image.shape[1]):\n",
    "            temp = img_aux[i : i + filter_size, j : j + filter_size]\n",
    "            temp_aux = np.reshape(temp, (filter_size**2))\n",
    "            gauss = kernel.reshape((filter_size**2))\n",
    "            img_final[i][j] = np.sum(np.outer(temp_aux, gauss))\n",
    "            temp = []\n",
    "\n",
    "    return img_final"
   ]
  },
  {
   "cell_type": "markdown",
   "id": "75c88247",
   "metadata": {},
   "source": [
    "Apply the filter to ``08_soil_and_roots_8bit_2.png`` using different filter parameters."
   ]
  },
  {
   "cell_type": "code",
   "execution_count": null,
   "id": "7357c18d",
   "metadata": {},
   "outputs": [],
   "source": [
    "img_gauss = gaussian_filter(, filter_size=, sigma=)\n",
    "\n",
    "# Plot your results to compare each one\n",
    "fig, (ax1, ax2) = plt.subplots(1, 2)\n",
    "ax1.imshow(image_raw, cmap=\"gray\")\n",
    "ax2.imshow(img_gauss, cmap=\"gray\")\n",
    "fig.tight_layout()"
   ]
  },
  {
   "cell_type": "markdown",
   "id": "6c19f314",
   "metadata": {},
   "source": [
    "**Comment:**  \n",
    "Like in the mean filter, the Gaussian filter lead to higher blurring compared to the median filter. The influence of the value of sigma appears low."
   ]
  },
  {
   "cell_type": "markdown",
   "id": "9cf8ecf3",
   "metadata": {},
   "source": [
    "---\n",
    "### Image Filters - Fourier filter"
   ]
  },
  {
   "cell_type": "markdown",
   "id": "01630196",
   "metadata": {},
   "source": [
    "**In addition** to the above filters, applying a **Fourier filter**, e.g. either a **high-, low- or a bandpass** filter can be very useful in order to highlight edges or smoothen the image. In the following, you should write three functions that will apply the different kinds of Fourier filters given an input image and the filter parameters.  \n",
    "Start by loading and displaying ``08_soil_and_roots_8bit_2.png`` - we will be working with this image in the following."
   ]
  },
  {
   "cell_type": "markdown",
   "id": "62c03847",
   "metadata": {},
   "source": [
    "---\n",
    "_- solve the exercise beneath using markdown and/or code blocks -_"
   ]
  },
  {
   "cell_type": "markdown",
   "id": "109747ac",
   "metadata": {},
   "source": [
    "We will begin by applying a highpass filter - you will be required to use the image and the filter size as input to your function. Apply the **2D Fourier transform** from ``numpy`` to your image and shift the resulting spectrum to the center of the image. You should then create a circular mask based on the filter size that sets all low frequencies, i.e. those in the center of the Fourier spectrum, to zero. Then perform the inverse Fourier operations (shifting the spectrum back first).\n",
    "\n",
    "Plot the **original image**, the **magnitude spectrum**, the **highpass filter mask** and the **image after filtering** next to each other."
   ]
  },
  {
   "cell_type": "markdown",
   "id": "d61ba206",
   "metadata": {},
   "source": [
    "#### High Pass Filter"
   ]
  },
  {
   "cell_type": "code",
   "execution_count": 83,
   "id": "acd3d8ed",
   "metadata": {},
   "outputs": [],
   "source": [
    "def fft_highpass_filter(image, filter_size):\n",
    "    \"\"\"Applies highpass Fourier filter to a given image.\n",
    "\n",
    "    Args:\n",
    "        image(numpy.ndarray): Image to be filtered\n",
    "        filter_size(numpy.ndarray): Number of frequency-equivalent pixels to remove\n",
    "\n",
    "    Returns:\n",
    "        numpy.ndarray: Filtered image\n",
    "    \"\"\"\n",
    "\n",
    "    # use the numpy 2D Fourier function to transform the input image\n",
    "    f = np.fft.fft2(image)\n",
    "\n",
    "    # shift the spectrmu to the center\n",
    "    fshift = np.fft.fftshift(f)\n",
    "    magnitude_spectrum = 20 * np.log(np.abs(fshift))\n",
    "\n",
    "    # draw a cylindrical mask using the filter size to filter out the low frequencies\n",
    "    crow = fshift.shape[0] // 2\n",
    "    ccol = fshift.shape[1] // 2\n",
    "    rr, cc = skimage.draw.disk(\n",
    "        center=(crow, ccol), radius=filter_size, shape=fshift.shape[0:2]\n",
    "    )\n",
    "    filter_img = np.ones((fshift.shape[0], fshift.shape[1]))\n",
    "    filter_img[rr, cc] = 0\n",
    "    fshift = fshift * filter_img\n",
    "\n",
    "    # perform the inverse transform\n",
    "    f_ishift = np.fft.ifftshift(fshift)\n",
    "    img_back = np.fft.ifft2(f_ishift)\n",
    "    img_back = np.abs(img_back)\n",
    "\n",
    "    # Plot the original image, the magnitude spectrum, the highpass filter mask\n",
    "    # and the image after filtering next to each other.\n",
    "    plt.subplot(141), plt.imshow(image, cmap=\"gray\")\n",
    "    plt.title(\"Input image\"), plt.xticks([]), plt.yticks([])\n",
    "    plt.subplot(142), plt.imshow(magnitude_spectrum, cmap=\"gray\")\n",
    "    plt.title(\"Magnitude spectrum\"), plt.xticks([]), plt.yticks([])\n",
    "    plt.subplot(143), plt.imshow(filter_img, cmap=\"gray\")\n",
    "    plt.title(\"Highpass filter\"), plt.xticks([]), plt.yticks([])\n",
    "    plt.subplot(144), plt.imshow(img_back, cmap=\"gray\")\n",
    "    plt.title(\"Image after HPF\"), plt.xticks([]), plt.yticks([])\n",
    "    plt.tight_layout()\n",
    "    plt.show()\n",
    "\n",
    "    return img_back"
   ]
  },
  {
   "cell_type": "markdown",
   "id": "8029fd01",
   "metadata": {},
   "source": [
    "Now use the function you have just defined on the image of the soil and root **with different input filter sizes** and comment on how the filter influences the image."
   ]
  },
  {
   "cell_type": "code",
   "execution_count": null,
   "id": "7a6e56e3",
   "metadata": {},
   "outputs": [],
   "source": [
    "image_hpf = fft_highpass_filter(, )"
   ]
  },
  {
   "cell_type": "markdown",
   "id": "ffc84b0a",
   "metadata": {},
   "source": [
    "**Comment:**  \n",
    "The highpass filter as implemented by us deletes the low spatial frequencies, which are long stretches of similar greyscale. Therefore, when setting a small filter size (5), we are left in particular with near-edge features and the smaller rocks within the soil. When setting a larger filter size (50) we are left with only the very high frequencies, and therefore the image noise. Thus, we could use a high-pass filter to localise the image noise and subtract if from the image."
   ]
  },
  {
   "cell_type": "markdown",
   "id": "aa03d3a2",
   "metadata": {},
   "source": [
    "#### Low Pass Filter"
   ]
  },
  {
   "cell_type": "markdown",
   "id": "b9a77f52",
   "metadata": {},
   "source": [
    "Next, define a function for a **low-pass Fourier filter**. Do the same as above, but maintain the low frequencies this time."
   ]
  },
  {
   "cell_type": "code",
   "execution_count": 85,
   "id": "5c86a10e",
   "metadata": {},
   "outputs": [],
   "source": [
    "def fft_lowpass_filter(image, filter_size):\n",
    "    \"\"\"Applies lowpass Fourier filter to a given image.\n",
    "\n",
    "    Args:\n",
    "        image(numpy.ndarray): Image to be filtered\n",
    "        filter_size(numpy.ndarray): Number of frequency-equivalent pixels to remove\n",
    "\n",
    "    Returns:\n",
    "        numpy.ndarray: Filtered image\n",
    "    \"\"\"\n",
    "    f = np.fft.fft2(image)\n",
    "    fshift = np.fft.fftshift(f)\n",
    "    magnitude_spectrum = 20 * np.log(np.abs(fshift))\n",
    "\n",
    "    crow = fshift.shape[0] // 2\n",
    "    ccol = fshift.shape[1] // 2\n",
    "    rr, cc = skimage.draw.disk(\n",
    "        center=(crow, ccol), radius=filter_size, shape=fshift.shape[0:2]\n",
    "    )\n",
    "    filter_img = np.zeros((f.shape[0], f.shape[1]))\n",
    "    filter_img[rr, cc] = 1\n",
    "    fshift = fshift * filter_img\n",
    "    f_ishift = np.fft.ifftshift(fshift)\n",
    "    img_back = np.fft.ifft2(f_ishift)\n",
    "    img_back = np.abs(img_back)\n",
    "\n",
    "    plt.subplot(141), plt.imshow(image, cmap=\"gray\")\n",
    "    plt.title(\"Input image\"), plt.xticks([]), plt.yticks([])\n",
    "    plt.subplot(142), plt.imshow(magnitude_spectrum, cmap=\"gray\")\n",
    "    plt.title(\"Magnitude spectrum\"), plt.xticks([]), plt.yticks([])\n",
    "    plt.subplot(143), plt.imshow(filter_img, cmap=\"gray\")\n",
    "    plt.title(\"Lowpass filter\"), plt.xticks([]), plt.yticks([])\n",
    "    plt.subplot(144), plt.imshow(img_back, cmap=\"gray\")\n",
    "    plt.title(\"Image after LPF\"), plt.xticks([]), plt.yticks([])\n",
    "    plt.tight_layout()\n",
    "    plt.show()\n",
    "\n",
    "    return img_back"
   ]
  },
  {
   "cell_type": "markdown",
   "id": "ece06932",
   "metadata": {},
   "source": [
    "Apply the **low-pass filter** to the image of the soil and root for different input filter sizes and comment on how the image is changed."
   ]
  },
  {
   "cell_type": "code",
   "execution_count": null,
   "id": "942ccdca",
   "metadata": {},
   "outputs": [],
   "source": [
    "image_lpf = fft_lowpass_filter(, )"
   ]
  },
  {
   "cell_type": "markdown",
   "id": "b7598eb1",
   "metadata": {},
   "source": [
    "**Comment:**  \n",
    "The lowpass filter leaves the image features that contain similar greyscales and appears to lead to a blurring of the image. For low filter size values (2) we are left with only vague features in our sample, slightly higher values (5) define these features more clearly and for very high numbers (50) the image after filtering appears similar to the original as only regions of high noise have been removed."
   ]
  },
  {
   "cell_type": "markdown",
   "id": "fa265ddb",
   "metadata": {},
   "source": [
    "#### Band Pass Filter"
   ]
  },
  {
   "cell_type": "markdown",
   "id": "e6a286d2",
   "metadata": {},
   "source": [
    "Finally, define a **Fourier bandpass filter** which takes two filter sizes as input for low- and high-frequency thresholds, respectively."
   ]
  },
  {
   "cell_type": "code",
   "execution_count": 87,
   "id": "0b2604e4",
   "metadata": {},
   "outputs": [],
   "source": [
    "def fft_bandpass_filter(image, filter_size1, filter_size2):\n",
    "    \"\"\"Applies bandpass fourier filter to a given image.\n",
    "\n",
    "    Args:\n",
    "        image(numpy.ndarray): Image to be filtered\n",
    "        filter_size1(numpy.ndarray): Number of frequency-equivalent pixels to remove fp\n",
    "\n",
    "    Returns:\n",
    "        numpy.ndarray: Filtered image\n",
    "    \"\"\"\n",
    "    f = np.fft.fft2(image)\n",
    "    fshift = np.fft.fftshift(f)\n",
    "    magnitude_spectrum = 20 * np.log(np.abs(fshift))\n",
    "\n",
    "    crow = fshift.shape[0] // 2\n",
    "    ccol = fshift.shape[1] // 2\n",
    "    rr, cc = skimage.draw.disk(\n",
    "        center=(crow, ccol), radius=filter_size2, shape=fshift.shape[0:2]\n",
    "    )\n",
    "    filter_img = np.zeros((f.shape[0], f.shape[1]))\n",
    "    filter_img[rr, cc] = 1\n",
    "    rr, cc = skimage.draw.disk(\n",
    "        center=(crow, ccol), radius=filter_size1, shape=fshift.shape[0:2]\n",
    "    )\n",
    "    filter_img[rr, cc] = 0\n",
    "    fshift = fshift * filter_img\n",
    "    fshift = fshift * filter_img\n",
    "    f_ishift = np.fft.ifftshift(fshift)\n",
    "    img_back = np.fft.ifft2(f_ishift)\n",
    "    img_back = np.abs(img_back)\n",
    "\n",
    "    plt.subplot(141), plt.imshow(image, cmap=\"gray\")\n",
    "    plt.title(\"Input image\"), plt.xticks([]), plt.yticks([])\n",
    "    plt.subplot(142), plt.imshow(magnitude_spectrum, cmap=\"gray\")\n",
    "    plt.title(\"Magnitude spectrum\"), plt.xticks([]), plt.yticks([])\n",
    "    plt.subplot(143), plt.imshow(filter_img, cmap=\"gray\")\n",
    "    plt.title(\"Bandpass filter\"), plt.xticks([]), plt.yticks([])\n",
    "    plt.subplot(144), plt.imshow(img_back, cmap=\"gray\")\n",
    "    plt.title(\"Image after BPF\"), plt.xticks([]), plt.yticks([])\n",
    "    plt.tight_layout()\n",
    "    plt.show()\n",
    "\n",
    "    return img_back"
   ]
  },
  {
   "cell_type": "markdown",
   "id": "e4a355ff",
   "metadata": {},
   "source": [
    "Apply the **bandpass filter** to the image of the soil and root for different input filter sizes and comment on how the image is changed."
   ]
  },
  {
   "cell_type": "code",
   "execution_count": null,
   "id": "b25fb5f5",
   "metadata": {},
   "outputs": [],
   "source": [
    "image_bpf = fft_bandpass_filter(, , )"
   ]
  },
  {
   "cell_type": "markdown",
   "id": "d3c1eeb0",
   "metadata": {},
   "source": [
    "**Comment:**  \n",
    "The bandpass filter can be used to identify edges or highlight frequencies that could be removed from the image. Depending on the setting of the frequencies, it will define a low- or highpass filter or specify frequencies in between."
   ]
  },
  {
   "cell_type": "markdown",
   "id": "537aba26",
   "metadata": {},
   "source": [
    "---"
   ]
  }
 ],
 "metadata": {
  "kernelspec": {
   "display_name": ".venv",
   "language": "python",
   "name": "python3"
  },
  "language_info": {
   "codemirror_mode": {
    "name": "ipython",
    "version": 3
   },
   "file_extension": ".py",
   "mimetype": "text/x-python",
   "name": "python",
   "nbconvert_exporter": "python",
   "pygments_lexer": "ipython3",
   "version": "3.12.7"
  }
 },
 "nbformat": 4,
 "nbformat_minor": 5
}
